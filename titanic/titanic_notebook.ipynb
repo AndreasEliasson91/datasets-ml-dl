{
 "cells": [
  {
   "cell_type": "code",
   "execution_count": 1,
   "metadata": {
    "collapsed": true
   },
   "outputs": [],
   "source": [
    "import pandas as pd"
   ]
  },
  {
   "cell_type": "code",
   "execution_count": 2,
   "outputs": [],
   "source": [
    "titanic_df = pd.read_csv('./data/titanic.csv')"
   ],
   "metadata": {
    "collapsed": false,
    "pycharm": {
     "name": "#%%\n"
    }
   }
  },
  {
   "cell_type": "code",
   "execution_count": 3,
   "outputs": [
    {
     "data": {
      "text/plain": "   id  gender   age class     embarked        country   fare  sibsp  parch  \\\n0   0    male  42.0   3rd  Southampton  United States   7.11    0.0    0.0   \n1   1    male  13.0   3rd  Southampton  United States  20.05    0.0    2.0   \n2   2    male  16.0   3rd  Southampton  United States  20.05    1.0    1.0   \n3   3  female  39.0   3rd  Southampton        England  20.05    1.0    1.0   \n4   4  female  16.0   3rd  Southampton         Norway   7.13    0.0    0.0   \n\n  survived  \n0       no  \n1       no  \n2       no  \n3      yes  \n4      yes  ",
      "text/html": "<div>\n<style scoped>\n    .dataframe tbody tr th:only-of-type {\n        vertical-align: middle;\n    }\n\n    .dataframe tbody tr th {\n        vertical-align: top;\n    }\n\n    .dataframe thead th {\n        text-align: right;\n    }\n</style>\n<table border=\"1\" class=\"dataframe\">\n  <thead>\n    <tr style=\"text-align: right;\">\n      <th></th>\n      <th>id</th>\n      <th>gender</th>\n      <th>age</th>\n      <th>class</th>\n      <th>embarked</th>\n      <th>country</th>\n      <th>fare</th>\n      <th>sibsp</th>\n      <th>parch</th>\n      <th>survived</th>\n    </tr>\n  </thead>\n  <tbody>\n    <tr>\n      <th>0</th>\n      <td>0</td>\n      <td>male</td>\n      <td>42.0</td>\n      <td>3rd</td>\n      <td>Southampton</td>\n      <td>United States</td>\n      <td>7.11</td>\n      <td>0.0</td>\n      <td>0.0</td>\n      <td>no</td>\n    </tr>\n    <tr>\n      <th>1</th>\n      <td>1</td>\n      <td>male</td>\n      <td>13.0</td>\n      <td>3rd</td>\n      <td>Southampton</td>\n      <td>United States</td>\n      <td>20.05</td>\n      <td>0.0</td>\n      <td>2.0</td>\n      <td>no</td>\n    </tr>\n    <tr>\n      <th>2</th>\n      <td>2</td>\n      <td>male</td>\n      <td>16.0</td>\n      <td>3rd</td>\n      <td>Southampton</td>\n      <td>United States</td>\n      <td>20.05</td>\n      <td>1.0</td>\n      <td>1.0</td>\n      <td>no</td>\n    </tr>\n    <tr>\n      <th>3</th>\n      <td>3</td>\n      <td>female</td>\n      <td>39.0</td>\n      <td>3rd</td>\n      <td>Southampton</td>\n      <td>England</td>\n      <td>20.05</td>\n      <td>1.0</td>\n      <td>1.0</td>\n      <td>yes</td>\n    </tr>\n    <tr>\n      <th>4</th>\n      <td>4</td>\n      <td>female</td>\n      <td>16.0</td>\n      <td>3rd</td>\n      <td>Southampton</td>\n      <td>Norway</td>\n      <td>7.13</td>\n      <td>0.0</td>\n      <td>0.0</td>\n      <td>yes</td>\n    </tr>\n  </tbody>\n</table>\n</div>"
     },
     "execution_count": 3,
     "metadata": {},
     "output_type": "execute_result"
    }
   ],
   "source": [
    "titanic_df.head()"
   ],
   "metadata": {
    "collapsed": false,
    "pycharm": {
     "name": "#%%\n"
    }
   }
  },
  {
   "cell_type": "code",
   "execution_count": 4,
   "outputs": [
    {
     "name": "stdout",
     "output_type": "stream",
     "text": [
      "<class 'pandas.core.frame.DataFrame'>\n",
      "RangeIndex: 2207 entries, 0 to 2206\n",
      "Data columns (total 10 columns):\n",
      " #   Column    Non-Null Count  Dtype  \n",
      "---  ------    --------------  -----  \n",
      " 0   id        2207 non-null   int64  \n",
      " 1   gender    2207 non-null   object \n",
      " 2   age       2205 non-null   float64\n",
      " 3   class     2207 non-null   object \n",
      " 4   embarked  2207 non-null   object \n",
      " 5   country   2126 non-null   object \n",
      " 6   fare      2181 non-null   float64\n",
      " 7   sibsp     2197 non-null   float64\n",
      " 8   parch     2197 non-null   float64\n",
      " 9   survived  2207 non-null   object \n",
      "dtypes: float64(4), int64(1), object(5)\n",
      "memory usage: 172.5+ KB\n"
     ]
    }
   ],
   "source": [
    "titanic_df.info()"
   ],
   "metadata": {
    "collapsed": false,
    "pycharm": {
     "name": "#%%\n"
    }
   }
  },
  {
   "cell_type": "code",
   "execution_count": 5,
   "outputs": [
    {
     "data": {
      "text/plain": "id          2207\ngender      2207\nage         2207\nclass       2207\nembarked    2207\ncountry     2207\nfare        2207\nsibsp       2207\nparch       2207\nsurvived    2207\ndtype: int64"
     },
     "execution_count": 5,
     "metadata": {},
     "output_type": "execute_result"
    }
   ],
   "source": [
    "titanic_df.isnull().count()"
   ],
   "metadata": {
    "collapsed": false,
    "pycharm": {
     "name": "#%%\n"
    }
   }
  },
  {
   "cell_type": "code",
   "execution_count": 6,
   "outputs": [
    {
     "data": {
      "text/plain": "                id          age         fare        sibsp        parch\ncount  2207.000000  2205.000000  2181.000000  2197.000000  2197.000000\nmean   1103.000000    30.436735    19.773290     0.297223     0.229404\nstd     637.250343    12.159677    43.402454     0.840384     0.694232\nmin       0.000000     0.166667     0.000000     0.000000     0.000000\n25%     551.500000    22.000000     0.000000     0.000000     0.000000\n50%    1103.000000    29.000000     7.150600     0.000000     0.000000\n75%    1654.500000    38.000000    20.110600     0.000000     0.000000\nmax    2206.000000    74.000000   512.060700     8.000000     9.000000",
      "text/html": "<div>\n<style scoped>\n    .dataframe tbody tr th:only-of-type {\n        vertical-align: middle;\n    }\n\n    .dataframe tbody tr th {\n        vertical-align: top;\n    }\n\n    .dataframe thead th {\n        text-align: right;\n    }\n</style>\n<table border=\"1\" class=\"dataframe\">\n  <thead>\n    <tr style=\"text-align: right;\">\n      <th></th>\n      <th>id</th>\n      <th>age</th>\n      <th>fare</th>\n      <th>sibsp</th>\n      <th>parch</th>\n    </tr>\n  </thead>\n  <tbody>\n    <tr>\n      <th>count</th>\n      <td>2207.000000</td>\n      <td>2205.000000</td>\n      <td>2181.000000</td>\n      <td>2197.000000</td>\n      <td>2197.000000</td>\n    </tr>\n    <tr>\n      <th>mean</th>\n      <td>1103.000000</td>\n      <td>30.436735</td>\n      <td>19.773290</td>\n      <td>0.297223</td>\n      <td>0.229404</td>\n    </tr>\n    <tr>\n      <th>std</th>\n      <td>637.250343</td>\n      <td>12.159677</td>\n      <td>43.402454</td>\n      <td>0.840384</td>\n      <td>0.694232</td>\n    </tr>\n    <tr>\n      <th>min</th>\n      <td>0.000000</td>\n      <td>0.166667</td>\n      <td>0.000000</td>\n      <td>0.000000</td>\n      <td>0.000000</td>\n    </tr>\n    <tr>\n      <th>25%</th>\n      <td>551.500000</td>\n      <td>22.000000</td>\n      <td>0.000000</td>\n      <td>0.000000</td>\n      <td>0.000000</td>\n    </tr>\n    <tr>\n      <th>50%</th>\n      <td>1103.000000</td>\n      <td>29.000000</td>\n      <td>7.150600</td>\n      <td>0.000000</td>\n      <td>0.000000</td>\n    </tr>\n    <tr>\n      <th>75%</th>\n      <td>1654.500000</td>\n      <td>38.000000</td>\n      <td>20.110600</td>\n      <td>0.000000</td>\n      <td>0.000000</td>\n    </tr>\n    <tr>\n      <th>max</th>\n      <td>2206.000000</td>\n      <td>74.000000</td>\n      <td>512.060700</td>\n      <td>8.000000</td>\n      <td>9.000000</td>\n    </tr>\n  </tbody>\n</table>\n</div>"
     },
     "execution_count": 6,
     "metadata": {},
     "output_type": "execute_result"
    }
   ],
   "source": [
    "titanic_df.describe()"
   ],
   "metadata": {
    "collapsed": false,
    "pycharm": {
     "name": "#%%\n"
    }
   }
  },
  {
   "cell_type": "code",
   "execution_count": 7,
   "outputs": [],
   "source": [
    "titanic_df.drop('id', axis=1, inplace=True)"
   ],
   "metadata": {
    "collapsed": false,
    "pycharm": {
     "name": "#%%\n"
    }
   }
  },
  {
   "cell_type": "code",
   "execution_count": 8,
   "outputs": [
    {
     "data": {
      "text/plain": "   gender   age class     embarked        country   fare  sibsp  parch  \\\n0    male  42.0   3rd  Southampton  United States   7.11    0.0    0.0   \n1    male  13.0   3rd  Southampton  United States  20.05    0.0    2.0   \n2    male  16.0   3rd  Southampton  United States  20.05    1.0    1.0   \n3  female  39.0   3rd  Southampton        England  20.05    1.0    1.0   \n4  female  16.0   3rd  Southampton         Norway   7.13    0.0    0.0   \n\n  survived  \n0       no  \n1       no  \n2       no  \n3      yes  \n4      yes  ",
      "text/html": "<div>\n<style scoped>\n    .dataframe tbody tr th:only-of-type {\n        vertical-align: middle;\n    }\n\n    .dataframe tbody tr th {\n        vertical-align: top;\n    }\n\n    .dataframe thead th {\n        text-align: right;\n    }\n</style>\n<table border=\"1\" class=\"dataframe\">\n  <thead>\n    <tr style=\"text-align: right;\">\n      <th></th>\n      <th>gender</th>\n      <th>age</th>\n      <th>class</th>\n      <th>embarked</th>\n      <th>country</th>\n      <th>fare</th>\n      <th>sibsp</th>\n      <th>parch</th>\n      <th>survived</th>\n    </tr>\n  </thead>\n  <tbody>\n    <tr>\n      <th>0</th>\n      <td>male</td>\n      <td>42.0</td>\n      <td>3rd</td>\n      <td>Southampton</td>\n      <td>United States</td>\n      <td>7.11</td>\n      <td>0.0</td>\n      <td>0.0</td>\n      <td>no</td>\n    </tr>\n    <tr>\n      <th>1</th>\n      <td>male</td>\n      <td>13.0</td>\n      <td>3rd</td>\n      <td>Southampton</td>\n      <td>United States</td>\n      <td>20.05</td>\n      <td>0.0</td>\n      <td>2.0</td>\n      <td>no</td>\n    </tr>\n    <tr>\n      <th>2</th>\n      <td>male</td>\n      <td>16.0</td>\n      <td>3rd</td>\n      <td>Southampton</td>\n      <td>United States</td>\n      <td>20.05</td>\n      <td>1.0</td>\n      <td>1.0</td>\n      <td>no</td>\n    </tr>\n    <tr>\n      <th>3</th>\n      <td>female</td>\n      <td>39.0</td>\n      <td>3rd</td>\n      <td>Southampton</td>\n      <td>England</td>\n      <td>20.05</td>\n      <td>1.0</td>\n      <td>1.0</td>\n      <td>yes</td>\n    </tr>\n    <tr>\n      <th>4</th>\n      <td>female</td>\n      <td>16.0</td>\n      <td>3rd</td>\n      <td>Southampton</td>\n      <td>Norway</td>\n      <td>7.13</td>\n      <td>0.0</td>\n      <td>0.0</td>\n      <td>yes</td>\n    </tr>\n  </tbody>\n</table>\n</div>"
     },
     "execution_count": 8,
     "metadata": {},
     "output_type": "execute_result"
    }
   ],
   "source": [
    "titanic_df.head()"
   ],
   "metadata": {
    "collapsed": false,
    "pycharm": {
     "name": "#%%\n"
    }
   }
  },
  {
   "cell_type": "code",
   "execution_count": 9,
   "outputs": [],
   "source": [
    "def create_crew(row):\n",
    "    if len(row['class']) > 3:\n",
    "        return 1\n",
    "    elif len(row['class']) > 0:\n",
    "        return 0\n",
    "    else:\n",
    "        return -1"
   ],
   "metadata": {
    "collapsed": false,
    "pycharm": {
     "name": "#%%\n"
    }
   }
  },
  {
   "cell_type": "code",
   "execution_count": 10,
   "outputs": [],
   "source": [
    "titanic_df['crew'] = titanic_df.apply(lambda row: create_crew(row), axis=1)"
   ],
   "metadata": {
    "collapsed": false,
    "pycharm": {
     "name": "#%%\n"
    }
   }
  },
  {
   "cell_type": "code",
   "execution_count": 11,
   "outputs": [
    {
     "data": {
      "text/plain": "     gender   age             class     embarked  country  fare  sibsp  parch  \\\n2202   male  41.0         deck crew      Belfast  England   0.0    0.0    0.0   \n2203   male  40.0  victualling crew  Southampton  England   0.0    0.0    0.0   \n2204   male  32.0  engineering crew  Southampton  England   0.0    0.0    0.0   \n2205   male  20.0  restaurant staff  Southampton  England   0.0    0.0    0.0   \n2206   male  26.0  restaurant staff  Southampton  England   0.0    0.0    0.0   \n\n     survived  crew  \n2202      yes     1  \n2203      yes     1  \n2204       no     1  \n2205       no     1  \n2206       no     1  ",
      "text/html": "<div>\n<style scoped>\n    .dataframe tbody tr th:only-of-type {\n        vertical-align: middle;\n    }\n\n    .dataframe tbody tr th {\n        vertical-align: top;\n    }\n\n    .dataframe thead th {\n        text-align: right;\n    }\n</style>\n<table border=\"1\" class=\"dataframe\">\n  <thead>\n    <tr style=\"text-align: right;\">\n      <th></th>\n      <th>gender</th>\n      <th>age</th>\n      <th>class</th>\n      <th>embarked</th>\n      <th>country</th>\n      <th>fare</th>\n      <th>sibsp</th>\n      <th>parch</th>\n      <th>survived</th>\n      <th>crew</th>\n    </tr>\n  </thead>\n  <tbody>\n    <tr>\n      <th>2202</th>\n      <td>male</td>\n      <td>41.0</td>\n      <td>deck crew</td>\n      <td>Belfast</td>\n      <td>England</td>\n      <td>0.0</td>\n      <td>0.0</td>\n      <td>0.0</td>\n      <td>yes</td>\n      <td>1</td>\n    </tr>\n    <tr>\n      <th>2203</th>\n      <td>male</td>\n      <td>40.0</td>\n      <td>victualling crew</td>\n      <td>Southampton</td>\n      <td>England</td>\n      <td>0.0</td>\n      <td>0.0</td>\n      <td>0.0</td>\n      <td>yes</td>\n      <td>1</td>\n    </tr>\n    <tr>\n      <th>2204</th>\n      <td>male</td>\n      <td>32.0</td>\n      <td>engineering crew</td>\n      <td>Southampton</td>\n      <td>England</td>\n      <td>0.0</td>\n      <td>0.0</td>\n      <td>0.0</td>\n      <td>no</td>\n      <td>1</td>\n    </tr>\n    <tr>\n      <th>2205</th>\n      <td>male</td>\n      <td>20.0</td>\n      <td>restaurant staff</td>\n      <td>Southampton</td>\n      <td>England</td>\n      <td>0.0</td>\n      <td>0.0</td>\n      <td>0.0</td>\n      <td>no</td>\n      <td>1</td>\n    </tr>\n    <tr>\n      <th>2206</th>\n      <td>male</td>\n      <td>26.0</td>\n      <td>restaurant staff</td>\n      <td>Southampton</td>\n      <td>England</td>\n      <td>0.0</td>\n      <td>0.0</td>\n      <td>0.0</td>\n      <td>no</td>\n      <td>1</td>\n    </tr>\n  </tbody>\n</table>\n</div>"
     },
     "execution_count": 11,
     "metadata": {},
     "output_type": "execute_result"
    }
   ],
   "source": [
    "titanic_df.tail()"
   ],
   "metadata": {
    "collapsed": false,
    "pycharm": {
     "name": "#%%\n"
    }
   }
  },
  {
   "cell_type": "code",
   "execution_count": 12,
   "outputs": [
    {
     "data": {
      "text/plain": "0    1317\n1     890\nName: crew, dtype: int64"
     },
     "execution_count": 12,
     "metadata": {},
     "output_type": "execute_result"
    }
   ],
   "source": [
    "pd.value_counts(titanic_df['crew'])"
   ],
   "metadata": {
    "collapsed": false,
    "pycharm": {
     "name": "#%%\n"
    }
   }
  },
  {
   "cell_type": "code",
   "execution_count": 13,
   "outputs": [
    {
     "data": {
      "text/plain": "no     1496\nyes     711\nName: survived, dtype: int64"
     },
     "execution_count": 13,
     "metadata": {},
     "output_type": "execute_result"
    }
   ],
   "source": [
    "pd.value_counts(titanic_df['survived'])"
   ],
   "metadata": {
    "collapsed": false,
    "pycharm": {
     "name": "#%%\n"
    }
   }
  },
  {
   "cell_type": "markdown",
   "source": [
    "Convert survived from string to 0 or 1"
   ],
   "metadata": {
    "collapsed": false,
    "pycharm": {
     "name": "#%% md\n"
    }
   }
  },
  {
   "cell_type": "code",
   "execution_count": 14,
   "outputs": [],
   "source": [
    "titanic_df['survived'] = titanic_df.apply(lambda row: 0 if row['survived'] == 'no' else 1, axis=1)"
   ],
   "metadata": {
    "collapsed": false,
    "pycharm": {
     "name": "#%%\n"
    }
   }
  },
  {
   "cell_type": "code",
   "execution_count": 15,
   "outputs": [
    {
     "data": {
      "text/plain": "   gender   age class     embarked        country   fare  sibsp  parch  \\\n0    male  42.0   3rd  Southampton  United States   7.11    0.0    0.0   \n1    male  13.0   3rd  Southampton  United States  20.05    0.0    2.0   \n2    male  16.0   3rd  Southampton  United States  20.05    1.0    1.0   \n3  female  39.0   3rd  Southampton        England  20.05    1.0    1.0   \n4  female  16.0   3rd  Southampton         Norway   7.13    0.0    0.0   \n\n   survived  crew  \n0         0     0  \n1         0     0  \n2         0     0  \n3         1     0  \n4         1     0  ",
      "text/html": "<div>\n<style scoped>\n    .dataframe tbody tr th:only-of-type {\n        vertical-align: middle;\n    }\n\n    .dataframe tbody tr th {\n        vertical-align: top;\n    }\n\n    .dataframe thead th {\n        text-align: right;\n    }\n</style>\n<table border=\"1\" class=\"dataframe\">\n  <thead>\n    <tr style=\"text-align: right;\">\n      <th></th>\n      <th>gender</th>\n      <th>age</th>\n      <th>class</th>\n      <th>embarked</th>\n      <th>country</th>\n      <th>fare</th>\n      <th>sibsp</th>\n      <th>parch</th>\n      <th>survived</th>\n      <th>crew</th>\n    </tr>\n  </thead>\n  <tbody>\n    <tr>\n      <th>0</th>\n      <td>male</td>\n      <td>42.0</td>\n      <td>3rd</td>\n      <td>Southampton</td>\n      <td>United States</td>\n      <td>7.11</td>\n      <td>0.0</td>\n      <td>0.0</td>\n      <td>0</td>\n      <td>0</td>\n    </tr>\n    <tr>\n      <th>1</th>\n      <td>male</td>\n      <td>13.0</td>\n      <td>3rd</td>\n      <td>Southampton</td>\n      <td>United States</td>\n      <td>20.05</td>\n      <td>0.0</td>\n      <td>2.0</td>\n      <td>0</td>\n      <td>0</td>\n    </tr>\n    <tr>\n      <th>2</th>\n      <td>male</td>\n      <td>16.0</td>\n      <td>3rd</td>\n      <td>Southampton</td>\n      <td>United States</td>\n      <td>20.05</td>\n      <td>1.0</td>\n      <td>1.0</td>\n      <td>0</td>\n      <td>0</td>\n    </tr>\n    <tr>\n      <th>3</th>\n      <td>female</td>\n      <td>39.0</td>\n      <td>3rd</td>\n      <td>Southampton</td>\n      <td>England</td>\n      <td>20.05</td>\n      <td>1.0</td>\n      <td>1.0</td>\n      <td>1</td>\n      <td>0</td>\n    </tr>\n    <tr>\n      <th>4</th>\n      <td>female</td>\n      <td>16.0</td>\n      <td>3rd</td>\n      <td>Southampton</td>\n      <td>Norway</td>\n      <td>7.13</td>\n      <td>0.0</td>\n      <td>0.0</td>\n      <td>1</td>\n      <td>0</td>\n    </tr>\n  </tbody>\n</table>\n</div>"
     },
     "execution_count": 15,
     "metadata": {},
     "output_type": "execute_result"
    }
   ],
   "source": [
    "titanic_df.head()"
   ],
   "metadata": {
    "collapsed": false,
    "pycharm": {
     "name": "#%%\n"
    }
   }
  },
  {
   "cell_type": "markdown",
   "source": [
    "Check survival-rate (%) for class, gender and crew attributes"
   ],
   "metadata": {
    "collapsed": false,
    "pycharm": {
     "name": "#%% md\n"
    }
   }
  },
  {
   "cell_type": "code",
   "execution_count": 16,
   "outputs": [
    {
     "data": {
      "text/plain": "class             gender  crew\n1st               female  0       0.965278\n                  male    0       0.344444\n2nd               female  0       0.886792\n                  male    0       0.134831\n3rd               female  0       0.490741\n                  male    0       0.152130\ndeck crew         male    1       0.651515\nengineering crew  male    1       0.219136\nrestaurant staff  female  1       1.000000\n                  male    1       0.014925\nvictualling crew  female  1       0.857143\n                  male    1       0.185366\nName: survived, dtype: float64"
     },
     "execution_count": 16,
     "metadata": {},
     "output_type": "execute_result"
    }
   ],
   "source": [
    "titanic_df.groupby(['class', 'gender', 'crew'])['survived'].mean()"
   ],
   "metadata": {
    "collapsed": false,
    "pycharm": {
     "name": "#%%\n"
    }
   }
  },
  {
   "cell_type": "code",
   "execution_count": 17,
   "outputs": [
    {
     "data": {
      "text/plain": "gender  crew\nfemale  0       0.727468\n        1       0.869565\nmale    0       0.189189\n        1       0.220300\nName: survived, dtype: float64"
     },
     "execution_count": 17,
     "metadata": {},
     "output_type": "execute_result"
    }
   ],
   "source": [
    "titanic_df.groupby(['gender', 'crew'])['survived'].mean()"
   ],
   "metadata": {
    "collapsed": false,
    "pycharm": {
     "name": "#%%\n"
    }
   }
  },
  {
   "cell_type": "code",
   "execution_count": 18,
   "outputs": [
    {
     "data": {
      "text/plain": "gender  class           \nfemale  1st                 0.833333\n        2nd                 1.000000\n        3rd                 0.482759\nmale    1st                 0.857143\n        2nd                 0.733333\n        3rd                 0.220779\n        restaurant staff    0.000000\n        victualling crew    0.083333\nName: survived, dtype: float64"
     },
     "execution_count": 18,
     "metadata": {},
     "output_type": "execute_result"
    }
   ],
   "source": [
    "titanic_df[titanic_df['age'] < 18].groupby(['gender', 'class'])['survived'].mean()"
   ],
   "metadata": {
    "collapsed": false,
    "pycharm": {
     "name": "#%%\n"
    }
   }
  },
  {
   "cell_type": "code",
   "execution_count": 19,
   "outputs": [
    {
     "data": {
      "text/plain": "(200, 10)"
     },
     "execution_count": 19,
     "metadata": {},
     "output_type": "execute_result"
    }
   ],
   "source": [
    "titanic_df[titanic_df['age'] < 18].shape"
   ],
   "metadata": {
    "collapsed": false,
    "pycharm": {
     "name": "#%%\n"
    }
   }
  },
  {
   "cell_type": "code",
   "execution_count": 20,
   "outputs": [],
   "source": [
    "titanic_df['crew_role'] = titanic_df.apply(lambda row: row['class'] if len(row['class']) > 3 else '', axis=1)"
   ],
   "metadata": {
    "collapsed": false,
    "pycharm": {
     "name": "#%%\n"
    }
   }
  },
  {
   "cell_type": "code",
   "execution_count": 21,
   "outputs": [
    {
     "data": {
      "text/plain": "                    1317\nvictualling crew     431\nengineering crew     324\nrestaurant staff      69\ndeck crew             66\nName: crew_role, dtype: int64"
     },
     "execution_count": 21,
     "metadata": {},
     "output_type": "execute_result"
    }
   ],
   "source": [
    "pd.value_counts(titanic_df['crew_role'])"
   ],
   "metadata": {
    "collapsed": false,
    "pycharm": {
     "name": "#%%\n"
    }
   }
  },
  {
   "cell_type": "code",
   "execution_count": 22,
   "outputs": [],
   "source": [
    "def fix_class(row):\n",
    "    match row['class']:\n",
    "        case '1st':\n",
    "            return 1\n",
    "        case '2nd':\n",
    "            return 2\n",
    "        case '3rd':\n",
    "            return 3\n",
    "        case _:\n",
    "            return 0"
   ],
   "metadata": {
    "collapsed": false,
    "pycharm": {
     "name": "#%%\n"
    }
   }
  },
  {
   "cell_type": "code",
   "execution_count": 23,
   "outputs": [],
   "source": [
    "titanic_df['class'] = titanic_df.apply(lambda row: fix_class(row), axis=1)"
   ],
   "metadata": {
    "collapsed": false,
    "pycharm": {
     "name": "#%%\n"
    }
   }
  },
  {
   "cell_type": "code",
   "execution_count": 24,
   "outputs": [],
   "source": [
    "import seaborn as sns"
   ],
   "metadata": {
    "collapsed": false,
    "pycharm": {
     "name": "#%%\n"
    }
   }
  },
  {
   "cell_type": "code",
   "execution_count": 25,
   "outputs": [
    {
     "data": {
      "text/plain": "<AxesSubplot:>"
     },
     "execution_count": 25,
     "metadata": {},
     "output_type": "execute_result"
    },
    {
     "data": {
      "text/plain": "<Figure size 432x288 with 2 Axes>",
      "image/png": "[encoded data removed]"
     },
     "metadata": {
      "needs_background": "light"
     },
     "output_type": "display_data"
    }
   ],
   "source": [
    "sns.heatmap(titanic_df.corr(), annot=True, fmt='.1f')"
   ],
   "metadata": {
    "collapsed": false,
    "pycharm": {
     "name": "#%%\n"
    }
   }
  },
  {
   "cell_type": "code",
   "execution_count": 29,
   "outputs": [],
   "source": [
    "import matplotlib as plt"
   ],
   "metadata": {
    "collapsed": false,
    "pycharm": {
     "name": "#%%\n"
    }
   }
  },
  {
   "cell_type": "code",
   "execution_count": 32,
   "outputs": [
    {
     "data": {
      "text/plain": "<AxesSubplot:>"
     },
     "execution_count": 32,
     "metadata": {},
     "output_type": "execute_result"
    },
    {
     "data": {
      "text/plain": "<Figure size 432x288 with 1 Axes>",
      "image/png": "[encoded data removed]"
     },
     "metadata": {
      "needs_background": "light"
     },
     "output_type": "display_data"
    }
   ],
   "source": [
    "titanic_df.boxplot(column='fare')"
   ],
   "metadata": {
    "collapsed": false,
    "pycharm": {
     "name": "#%%\n"
    }
   }
  },
  {
   "cell_type": "code",
   "execution_count": 34,
   "outputs": [
    {
     "data": {
      "text/plain": "      gender   age  class   embarked        country      fare  sibsp  parch  \\\n197   female  58.0      1  Cherbourg  United States  512.0607    0.0    1.0   \n198     male  36.0      1  Cherbourg  United States  512.0607    0.0    1.0   \n714     male  35.0      1  Cherbourg            NaN  512.0607    0.0    0.0   \n1248  female  37.0      1  Cherbourg            NaN  512.0607    0.0    0.0   \n\n      survived  crew crew_role  \n197          1     0            \n198          1     0            \n714          1     0            \n1248         1     0            ",
      "text/html": "<div>\n<style scoped>\n    .dataframe tbody tr th:only-of-type {\n        vertical-align: middle;\n    }\n\n    .dataframe tbody tr th {\n        vertical-align: top;\n    }\n\n    .dataframe thead th {\n        text-align: right;\n    }\n</style>\n<table border=\"1\" class=\"dataframe\">\n  <thead>\n    <tr style=\"text-align: right;\">\n      <th></th>\n      <th>gender</th>\n      <th>age</th>\n      <th>class</th>\n      <th>embarked</th>\n      <th>country</th>\n      <th>fare</th>\n      <th>sibsp</th>\n      <th>parch</th>\n      <th>survived</th>\n      <th>crew</th>\n      <th>crew_role</th>\n    </tr>\n  </thead>\n  <tbody>\n    <tr>\n      <th>197</th>\n      <td>female</td>\n      <td>58.0</td>\n      <td>1</td>\n      <td>Cherbourg</td>\n      <td>United States</td>\n      <td>512.0607</td>\n      <td>0.0</td>\n      <td>1.0</td>\n      <td>1</td>\n      <td>0</td>\n      <td></td>\n    </tr>\n    <tr>\n      <th>198</th>\n      <td>male</td>\n      <td>36.0</td>\n      <td>1</td>\n      <td>Cherbourg</td>\n      <td>United States</td>\n      <td>512.0607</td>\n      <td>0.0</td>\n      <td>1.0</td>\n      <td>1</td>\n      <td>0</td>\n      <td></td>\n    </tr>\n    <tr>\n      <th>714</th>\n      <td>male</td>\n      <td>35.0</td>\n      <td>1</td>\n      <td>Cherbourg</td>\n      <td>NaN</td>\n      <td>512.0607</td>\n      <td>0.0</td>\n      <td>0.0</td>\n      <td>1</td>\n      <td>0</td>\n      <td></td>\n    </tr>\n    <tr>\n      <th>1248</th>\n      <td>female</td>\n      <td>37.0</td>\n      <td>1</td>\n      <td>Cherbourg</td>\n      <td>NaN</td>\n      <td>512.0607</td>\n      <td>0.0</td>\n      <td>0.0</td>\n      <td>1</td>\n      <td>0</td>\n      <td></td>\n    </tr>\n  </tbody>\n</table>\n</div>"
     },
     "execution_count": 34,
     "metadata": {},
     "output_type": "execute_result"
    }
   ],
   "source": [
    "titanic_df[titanic_df['fare'] > 500]"
   ],
   "metadata": {
    "collapsed": false,
    "pycharm": {
     "name": "#%%\n"
    }
   }
  },
  {
   "cell_type": "code",
   "execution_count": 35,
   "outputs": [],
   "source": [
    "df_cat = titanic_df[['survived', 'class', 'gender', 'embarked', 'crew']]"
   ],
   "metadata": {
    "collapsed": false,
    "pycharm": {
     "name": "#%%\n"
    }
   }
  },
  {
   "cell_type": "code",
   "execution_count": 36,
   "outputs": [
    {
     "data": {
      "text/plain": "   survived  class  gender     embarked  crew\n0         0      3    male  Southampton     0\n1         0      3    male  Southampton     0\n2         0      3    male  Southampton     0\n3         1      3  female  Southampton     0\n4         1      3  female  Southampton     0",
      "text/html": "<div>\n<style scoped>\n    .dataframe tbody tr th:only-of-type {\n        vertical-align: middle;\n    }\n\n    .dataframe tbody tr th {\n        vertical-align: top;\n    }\n\n    .dataframe thead th {\n        text-align: right;\n    }\n</style>\n<table border=\"1\" class=\"dataframe\">\n  <thead>\n    <tr style=\"text-align: right;\">\n      <th></th>\n      <th>survived</th>\n      <th>class</th>\n      <th>gender</th>\n      <th>embarked</th>\n      <th>crew</th>\n    </tr>\n  </thead>\n  <tbody>\n    <tr>\n      <th>0</th>\n      <td>0</td>\n      <td>3</td>\n      <td>male</td>\n      <td>Southampton</td>\n      <td>0</td>\n    </tr>\n    <tr>\n      <th>1</th>\n      <td>0</td>\n      <td>3</td>\n      <td>male</td>\n      <td>Southampton</td>\n      <td>0</td>\n    </tr>\n    <tr>\n      <th>2</th>\n      <td>0</td>\n      <td>3</td>\n      <td>male</td>\n      <td>Southampton</td>\n      <td>0</td>\n    </tr>\n    <tr>\n      <th>3</th>\n      <td>1</td>\n      <td>3</td>\n      <td>female</td>\n      <td>Southampton</td>\n      <td>0</td>\n    </tr>\n    <tr>\n      <th>4</th>\n      <td>1</td>\n      <td>3</td>\n      <td>female</td>\n      <td>Southampton</td>\n      <td>0</td>\n    </tr>\n  </tbody>\n</table>\n</div>"
     },
     "execution_count": 36,
     "metadata": {},
     "output_type": "execute_result"
    }
   ],
   "source": [
    "df_cat.head()"
   ],
   "metadata": {
    "collapsed": false,
    "pycharm": {
     "name": "#%%\n"
    }
   }
  },
  {
   "cell_type": "code",
   "execution_count": 38,
   "outputs": [
    {
     "ename": "AttributeError",
     "evalue": "module 'matplotlib' has no attribute 'show'",
     "output_type": "error",
     "traceback": [
      "\u001B[1;31m---------------------------------------------------------------------------\u001B[0m",
      "\u001B[1;31mAttributeError\u001B[0m                            Traceback (most recent call last)",
      "Input \u001B[1;32mIn [38]\u001B[0m, in \u001B[0;36m<cell line: 1>\u001B[1;34m()\u001B[0m\n\u001B[0;32m      1\u001B[0m \u001B[38;5;28;01mfor\u001B[39;00m col \u001B[38;5;129;01min\u001B[39;00m df_cat\u001B[38;5;241m.\u001B[39mcolumns:\n\u001B[0;32m      2\u001B[0m     sns\u001B[38;5;241m.\u001B[39mbarplot(x\u001B[38;5;241m=\u001B[39mdf_cat[col]\u001B[38;5;241m.\u001B[39mvalue_counts()\u001B[38;5;241m.\u001B[39mindex, y\u001B[38;5;241m=\u001B[39mdf_cat[col]\u001B[38;5;241m.\u001B[39mvalue_counts())\u001B[38;5;241m.\u001B[39mset_title(col)\n\u001B[1;32m----> 3\u001B[0m     \u001B[43mplt\u001B[49m\u001B[38;5;241;43m.\u001B[39;49m\u001B[43mshow\u001B[49m()\n",
      "File \u001B[1;32m~\\code\\projects\\python\\titanic-dataset\\venv\\lib\\site-packages\\matplotlib\\_api\\__init__.py:222\u001B[0m, in \u001B[0;36mcaching_module_getattr.<locals>.__getattr__\u001B[1;34m(name)\u001B[0m\n\u001B[0;32m    220\u001B[0m \u001B[38;5;28;01mif\u001B[39;00m name \u001B[38;5;129;01min\u001B[39;00m props:\n\u001B[0;32m    221\u001B[0m     \u001B[38;5;28;01mreturn\u001B[39;00m props[name]\u001B[38;5;241m.\u001B[39m\u001B[38;5;21m__get__\u001B[39m(instance)\n\u001B[1;32m--> 222\u001B[0m \u001B[38;5;28;01mraise\u001B[39;00m \u001B[38;5;167;01mAttributeError\u001B[39;00m(\n\u001B[0;32m    223\u001B[0m     \u001B[38;5;124mf\u001B[39m\u001B[38;5;124m\"\u001B[39m\u001B[38;5;124mmodule \u001B[39m\u001B[38;5;132;01m{\u001B[39;00m\u001B[38;5;28mcls\u001B[39m\u001B[38;5;241m.\u001B[39m\u001B[38;5;18m__module__\u001B[39m\u001B[38;5;132;01m!r}\u001B[39;00m\u001B[38;5;124m has no attribute \u001B[39m\u001B[38;5;132;01m{\u001B[39;00mname\u001B[38;5;132;01m!r}\u001B[39;00m\u001B[38;5;124m\"\u001B[39m)\n",
      "\u001B[1;31mAttributeError\u001B[0m: module 'matplotlib' has no attribute 'show'"
     ]
    },
    {
     "data": {
      "text/plain": "<Figure size 432x288 with 1 Axes>",
      "image/png": "[encoded data removed]"
     },
     "metadata": {
      "needs_background": "light"
     },
     "output_type": "display_data"
    }
   ],
   "source": [
    "for col in df_cat.columns:\n",
    "    sns.barplot(x=df_cat[col].value_counts().index, y=df_cat[col].value_counts()).set_title(col)\n",
    "    plt.show()"
   ],
   "metadata": {
    "collapsed": false,
    "pycharm": {
     "name": "#%%\n"
    }
   }
  },
  {
   "cell_type": "code",
   "execution_count": null,
   "outputs": [],
   "source": [],
   "metadata": {
    "collapsed": false,
    "pycharm": {
     "name": "#%%\n"
    }
   }
  }
 ],
 "metadata": {
  "kernelspec": {
   "display_name": "Python 3",
   "language": "python",
   "name": "python3"
  },
  "language_info": {
   "codemirror_mode": {
    "name": "ipython",
    "version": 2
   },
   "file_extension": ".py",
   "mimetype": "text/x-python",
   "name": "python",
   "nbconvert_exporter": "python",
   "pygments_lexer": "ipython2",
   "version": "2.7.6"
  }
 },
 "nbformat": 4,
 "nbformat_minor": 0
}