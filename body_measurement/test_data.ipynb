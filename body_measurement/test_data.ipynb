{
 "cells": [
  {
   "cell_type": "code",
   "execution_count": 166,
   "metadata": {
    "collapsed": true
   },
   "outputs": [],
   "source": [
    "import pandas as pd\n",
    "\n",
    "male_df = pd.read_csv('./data/male.csv')\n",
    "female_df = pd.read_csv('./data/female.csv')\n",
    "tmp_df = pd.concat([male_df, female_df])\n",
    "body_df = pd.DataFrame()"
   ]
  },
  {
   "cell_type": "markdown",
   "source": [],
   "metadata": {
    "collapsed": false,
    "pycharm": {
     "name": "#%% md\n"
    }
   }
  },
  {
   "cell_type": "code",
   "execution_count": 167,
   "outputs": [],
   "source": [
    "body_df['shoulders'] = tmp_df['biacromialbreadth'] / 10\n",
    "body_df['upper_arm_length'] = (tmp_df['shoulderelbowlength'] / 2) / 10\n",
    "body_df['waist'] = tmp_df['waistcircumference'] / 10\n",
    "body_df['chest'] = tmp_df['chestcircumference'] / 10\n",
    "body_df['length'] = (tmp_df['cervicaleheight'] - tmp_df['buttockheight']) / 10\n",
    "body_df['collar'] = tmp_df['neckcircumferencebase'] / 10\n",
    "body_df['height'] = tmp_df['Heightin'] * 2.54\n",
    "body_df['weight'] = tmp_df['weightkg'] / 10\n",
    "body_df['gender'] = tmp_df['Gender']"
   ],
   "metadata": {
    "collapsed": false,
    "pycharm": {
     "name": "#%%\n"
    }
   }
  },
  {
   "cell_type": "code",
   "execution_count": 168,
   "outputs": [
    {
     "data": {
      "text/plain": "(6068, 9)"
     },
     "execution_count": 168,
     "metadata": {},
     "output_type": "execute_result"
    }
   ],
   "source": [
    "body_df.shape"
   ],
   "metadata": {
    "collapsed": false,
    "pycharm": {
     "name": "#%%\n"
    }
   }
  },
  {
   "cell_type": "code",
   "execution_count": 175,
   "outputs": [
    {
     "name": "stdout",
     "output_type": "stream",
     "text": [
      "75.72077499749254\n",
      "44.78333333333334\n"
     ]
    }
   ],
   "source": [
    "import math\n",
    "\n",
    "M = [46., 20.5, 50., 54., 70., (8.25**2 * math.pi)]\n",
    "number = 0\n",
    "for i in M:\n",
    "    number += i\n",
    "\n",
    "number = number / len(M)\n",
    "print(number)\n",
    "\n",
    "male = [40.1, 18.4, 47.6, 53.7, 65.3, 43.6]\n",
    "new_number = 0\n",
    "for i in male:\n",
    "    new_number += i\n",
    "\n",
    "new_number = new_number / len(male)\n",
    "print(new_number)"
   ],
   "metadata": {
    "collapsed": false,
    "pycharm": {
     "name": "#%%\n"
    }
   }
  },
  {
   "cell_type": "code",
   "execution_count": 178,
   "outputs": [
    {
     "data": {
      "text/plain": "   shoulders  upper_arm_length  waist  chest  length  collar  height  weight  \\\n0       40.1             18.40   93.3  107.4    65.3    43.6  180.34    81.5   \n1       39.4             17.65   87.0  102.1    60.1    42.0  172.72    72.6   \n2       42.7             18.35   96.4  112.0    60.0    43.4  172.72    92.9   \n3       40.1             16.50   85.7  111.4    60.2    44.6  167.64    79.4   \n4       43.5             20.00   86.8  104.8    60.4    43.0  195.58    94.6   \n\n  gender  \n0   Male  \n1   Male  \n2   Male  \n3   Male  \n4   Male  ",
      "text/html": "<div>\n<style scoped>\n    .dataframe tbody tr th:only-of-type {\n        vertical-align: middle;\n    }\n\n    .dataframe tbody tr th {\n        vertical-align: top;\n    }\n\n    .dataframe thead th {\n        text-align: right;\n    }\n</style>\n<table border=\"1\" class=\"dataframe\">\n  <thead>\n    <tr style=\"text-align: right;\">\n      <th></th>\n      <th>shoulders</th>\n      <th>upper_arm_length</th>\n      <th>waist</th>\n      <th>chest</th>\n      <th>length</th>\n      <th>collar</th>\n      <th>height</th>\n      <th>weight</th>\n      <th>gender</th>\n    </tr>\n  </thead>\n  <tbody>\n    <tr>\n      <th>0</th>\n      <td>40.1</td>\n      <td>18.40</td>\n      <td>93.3</td>\n      <td>107.4</td>\n      <td>65.3</td>\n      <td>43.6</td>\n      <td>180.34</td>\n      <td>81.5</td>\n      <td>Male</td>\n    </tr>\n    <tr>\n      <th>1</th>\n      <td>39.4</td>\n      <td>17.65</td>\n      <td>87.0</td>\n      <td>102.1</td>\n      <td>60.1</td>\n      <td>42.0</td>\n      <td>172.72</td>\n      <td>72.6</td>\n      <td>Male</td>\n    </tr>\n    <tr>\n      <th>2</th>\n      <td>42.7</td>\n      <td>18.35</td>\n      <td>96.4</td>\n      <td>112.0</td>\n      <td>60.0</td>\n      <td>43.4</td>\n      <td>172.72</td>\n      <td>92.9</td>\n      <td>Male</td>\n    </tr>\n    <tr>\n      <th>3</th>\n      <td>40.1</td>\n      <td>16.50</td>\n      <td>85.7</td>\n      <td>111.4</td>\n      <td>60.2</td>\n      <td>44.6</td>\n      <td>167.64</td>\n      <td>79.4</td>\n      <td>Male</td>\n    </tr>\n    <tr>\n      <th>4</th>\n      <td>43.5</td>\n      <td>20.00</td>\n      <td>86.8</td>\n      <td>104.8</td>\n      <td>60.4</td>\n      <td>43.0</td>\n      <td>195.58</td>\n      <td>94.6</td>\n      <td>Male</td>\n    </tr>\n  </tbody>\n</table>\n</div>"
     },
     "execution_count": 178,
     "metadata": {},
     "output_type": "execute_result"
    }
   ],
   "source": [
    "body_df.head()"
   ],
   "metadata": {
    "collapsed": false,
    "pycharm": {
     "name": "#%%\n"
    }
   }
  },
  {
   "cell_type": "code",
   "execution_count": 176,
   "outputs": [
    {
     "data": {
      "text/plain": "   subjectid  abdominalextensiondepthsitting  acromialheight  \\\n0      10027                             266            1467   \n1      10032                             233            1395   \n2      10033                             287            1430   \n3      10092                             234            1347   \n4      10093                             250            1585   \n\n   acromionradialelength  anklecircumference  axillaheight  \\\n0                    337                 222          1347   \n1                    326                 220          1293   \n2                    341                 230          1327   \n3                    310                 230          1239   \n4                    372                 247          1478   \n\n   balloffootcircumference  balloffootlength  biacromialbreadth  \\\n0                      253               202                401   \n1                      245               193                394   \n2                      256               196                427   \n3                      262               199                401   \n4                      267               224                435   \n\n   bicepscircumferenceflexed  ...                  Branch  PrimaryMOS  \\\n0                        369  ...             Combat Arms         19D   \n1                        338  ...          Combat Support         68W   \n2                        408  ...          Combat Support         68W   \n3                        359  ...  Combat Service Support         88M   \n4                        356  ...  Combat Service Support         92G   \n\n   SubjectsBirthLocation  SubjectNumericRace  Ethnicity  DODRace  Age  \\\n0           North Dakota                   1        NaN        1   41   \n1               New York                   1        NaN        1   35   \n2               New York                   2        NaN        2   42   \n3              Wisconsin                   1        NaN        1   31   \n4         North Carolina                   2        NaN        2   21   \n\n   Heightin  Weightlbs  WritingPreference  \n0        71        180         Right hand  \n1        68        160          Left hand  \n2        68        205          Left hand  \n3        66        175         Right hand  \n4        77        213         Right hand  \n\n[5 rows x 108 columns]",
      "text/html": "<div>\n<style scoped>\n    .dataframe tbody tr th:only-of-type {\n        vertical-align: middle;\n    }\n\n    .dataframe tbody tr th {\n        vertical-align: top;\n    }\n\n    .dataframe thead th {\n        text-align: right;\n    }\n</style>\n<table border=\"1\" class=\"dataframe\">\n  <thead>\n    <tr style=\"text-align: right;\">\n      <th></th>\n      <th>subjectid</th>\n      <th>abdominalextensiondepthsitting</th>\n      <th>acromialheight</th>\n      <th>acromionradialelength</th>\n      <th>anklecircumference</th>\n      <th>axillaheight</th>\n      <th>balloffootcircumference</th>\n      <th>balloffootlength</th>\n      <th>biacromialbreadth</th>\n      <th>bicepscircumferenceflexed</th>\n      <th>...</th>\n      <th>Branch</th>\n      <th>PrimaryMOS</th>\n      <th>SubjectsBirthLocation</th>\n      <th>SubjectNumericRace</th>\n      <th>Ethnicity</th>\n      <th>DODRace</th>\n      <th>Age</th>\n      <th>Heightin</th>\n      <th>Weightlbs</th>\n      <th>WritingPreference</th>\n    </tr>\n  </thead>\n  <tbody>\n    <tr>\n      <th>0</th>\n      <td>10027</td>\n      <td>266</td>\n      <td>1467</td>\n      <td>337</td>\n      <td>222</td>\n      <td>1347</td>\n      <td>253</td>\n      <td>202</td>\n      <td>401</td>\n      <td>369</td>\n      <td>...</td>\n      <td>Combat Arms</td>\n      <td>19D</td>\n      <td>North Dakota</td>\n      <td>1</td>\n      <td>NaN</td>\n      <td>1</td>\n      <td>41</td>\n      <td>71</td>\n      <td>180</td>\n      <td>Right hand</td>\n    </tr>\n    <tr>\n      <th>1</th>\n      <td>10032</td>\n      <td>233</td>\n      <td>1395</td>\n      <td>326</td>\n      <td>220</td>\n      <td>1293</td>\n      <td>245</td>\n      <td>193</td>\n      <td>394</td>\n      <td>338</td>\n      <td>...</td>\n      <td>Combat Support</td>\n      <td>68W</td>\n      <td>New York</td>\n      <td>1</td>\n      <td>NaN</td>\n      <td>1</td>\n      <td>35</td>\n      <td>68</td>\n      <td>160</td>\n      <td>Left hand</td>\n    </tr>\n    <tr>\n      <th>2</th>\n      <td>10033</td>\n      <td>287</td>\n      <td>1430</td>\n      <td>341</td>\n      <td>230</td>\n      <td>1327</td>\n      <td>256</td>\n      <td>196</td>\n      <td>427</td>\n      <td>408</td>\n      <td>...</td>\n      <td>Combat Support</td>\n      <td>68W</td>\n      <td>New York</td>\n      <td>2</td>\n      <td>NaN</td>\n      <td>2</td>\n      <td>42</td>\n      <td>68</td>\n      <td>205</td>\n      <td>Left hand</td>\n    </tr>\n    <tr>\n      <th>3</th>\n      <td>10092</td>\n      <td>234</td>\n      <td>1347</td>\n      <td>310</td>\n      <td>230</td>\n      <td>1239</td>\n      <td>262</td>\n      <td>199</td>\n      <td>401</td>\n      <td>359</td>\n      <td>...</td>\n      <td>Combat Service Support</td>\n      <td>88M</td>\n      <td>Wisconsin</td>\n      <td>1</td>\n      <td>NaN</td>\n      <td>1</td>\n      <td>31</td>\n      <td>66</td>\n      <td>175</td>\n      <td>Right hand</td>\n    </tr>\n    <tr>\n      <th>4</th>\n      <td>10093</td>\n      <td>250</td>\n      <td>1585</td>\n      <td>372</td>\n      <td>247</td>\n      <td>1478</td>\n      <td>267</td>\n      <td>224</td>\n      <td>435</td>\n      <td>356</td>\n      <td>...</td>\n      <td>Combat Service Support</td>\n      <td>92G</td>\n      <td>North Carolina</td>\n      <td>2</td>\n      <td>NaN</td>\n      <td>2</td>\n      <td>21</td>\n      <td>77</td>\n      <td>213</td>\n      <td>Right hand</td>\n    </tr>\n  </tbody>\n</table>\n<p>5 rows × 108 columns</p>\n</div>"
     },
     "execution_count": 176,
     "metadata": {},
     "output_type": "execute_result"
    }
   ],
   "source": [
    "male_df.head()"
   ],
   "metadata": {
    "collapsed": false,
    "pycharm": {
     "name": "#%%\n"
    }
   }
  },
  {
   "cell_type": "code",
   "execution_count": 170,
   "outputs": [
    {
     "data": {
      "text/plain": "      shoulders  upper_arm_length  waist  chest  length  collar  height  \\\n1981       36.8             17.70  104.3  108.2    60.1    39.1  170.18   \n1982       37.8             15.90   97.1  101.6    57.2    39.9  160.02   \n1983       36.3             16.90   98.2  109.3    56.6    40.2  167.64   \n1984       37.6             16.05   83.7   92.2    59.1    38.0  160.02   \n1985       36.1             16.95   89.1   90.2    58.1    38.1  167.64   \n\n      weight  gender  \n1981    83.2  Female  \n1982    71.7  Female  \n1983    76.2  Female  \n1984    63.2  Female  \n1985    61.0  Female  ",
      "text/html": "<div>\n<style scoped>\n    .dataframe tbody tr th:only-of-type {\n        vertical-align: middle;\n    }\n\n    .dataframe tbody tr th {\n        vertical-align: top;\n    }\n\n    .dataframe thead th {\n        text-align: right;\n    }\n</style>\n<table border=\"1\" class=\"dataframe\">\n  <thead>\n    <tr style=\"text-align: right;\">\n      <th></th>\n      <th>shoulders</th>\n      <th>upper_arm_length</th>\n      <th>waist</th>\n      <th>chest</th>\n      <th>length</th>\n      <th>collar</th>\n      <th>height</th>\n      <th>weight</th>\n      <th>gender</th>\n    </tr>\n  </thead>\n  <tbody>\n    <tr>\n      <th>1981</th>\n      <td>36.8</td>\n      <td>17.70</td>\n      <td>104.3</td>\n      <td>108.2</td>\n      <td>60.1</td>\n      <td>39.1</td>\n      <td>170.18</td>\n      <td>83.2</td>\n      <td>Female</td>\n    </tr>\n    <tr>\n      <th>1982</th>\n      <td>37.8</td>\n      <td>15.90</td>\n      <td>97.1</td>\n      <td>101.6</td>\n      <td>57.2</td>\n      <td>39.9</td>\n      <td>160.02</td>\n      <td>71.7</td>\n      <td>Female</td>\n    </tr>\n    <tr>\n      <th>1983</th>\n      <td>36.3</td>\n      <td>16.90</td>\n      <td>98.2</td>\n      <td>109.3</td>\n      <td>56.6</td>\n      <td>40.2</td>\n      <td>167.64</td>\n      <td>76.2</td>\n      <td>Female</td>\n    </tr>\n    <tr>\n      <th>1984</th>\n      <td>37.6</td>\n      <td>16.05</td>\n      <td>83.7</td>\n      <td>92.2</td>\n      <td>59.1</td>\n      <td>38.0</td>\n      <td>160.02</td>\n      <td>63.2</td>\n      <td>Female</td>\n    </tr>\n    <tr>\n      <th>1985</th>\n      <td>36.1</td>\n      <td>16.95</td>\n      <td>89.1</td>\n      <td>90.2</td>\n      <td>58.1</td>\n      <td>38.1</td>\n      <td>167.64</td>\n      <td>61.0</td>\n      <td>Female</td>\n    </tr>\n  </tbody>\n</table>\n</div>"
     },
     "execution_count": 170,
     "metadata": {},
     "output_type": "execute_result"
    }
   ],
   "source": [
    "body_df.tail()"
   ],
   "metadata": {
    "collapsed": false,
    "pycharm": {
     "name": "#%%\n"
    }
   }
  },
  {
   "cell_type": "code",
   "execution_count": 171,
   "outputs": [
    {
     "data": {
      "text/plain": "<bound method Series.count of 0         Male\n1         Male\n2         Male\n3         Male\n4         Male\n         ...  \n1981    Female\n1982    Female\n1983    Female\n1984    Female\n1985    Female\nName: gender, Length: 6068, dtype: object>"
     },
     "execution_count": 171,
     "metadata": {},
     "output_type": "execute_result"
    }
   ],
   "source": [
    "body_df['gender'].count"
   ],
   "metadata": {
    "collapsed": false,
    "pycharm": {
     "name": "#%%\n"
    }
   }
  },
  {
   "cell_type": "code",
   "execution_count": 172,
   "outputs": [
    {
     "data": {
      "text/plain": "   shoulders  upper_arm_length  waist  chest  length  collar  height  weight  \\\n0       40.1             18.40   93.3  107.4    65.3    43.6  180.34    81.5   \n1       39.4             17.65   87.0  102.1    60.1    42.0  172.72    72.6   \n2       42.7             18.35   96.4  112.0    60.0    43.4  172.72    92.9   \n3       40.1             16.50   85.7  111.4    60.2    44.6  167.64    79.4   \n4       43.5             20.00   86.8  104.8    60.4    43.0  195.58    94.6   \n\n  gender  \n0   Male  \n1   Male  \n2   Male  \n3   Male  \n4   Male  ",
      "text/html": "<div>\n<style scoped>\n    .dataframe tbody tr th:only-of-type {\n        vertical-align: middle;\n    }\n\n    .dataframe tbody tr th {\n        vertical-align: top;\n    }\n\n    .dataframe thead th {\n        text-align: right;\n    }\n</style>\n<table border=\"1\" class=\"dataframe\">\n  <thead>\n    <tr style=\"text-align: right;\">\n      <th></th>\n      <th>shoulders</th>\n      <th>upper_arm_length</th>\n      <th>waist</th>\n      <th>chest</th>\n      <th>length</th>\n      <th>collar</th>\n      <th>height</th>\n      <th>weight</th>\n      <th>gender</th>\n    </tr>\n  </thead>\n  <tbody>\n    <tr>\n      <th>0</th>\n      <td>40.1</td>\n      <td>18.40</td>\n      <td>93.3</td>\n      <td>107.4</td>\n      <td>65.3</td>\n      <td>43.6</td>\n      <td>180.34</td>\n      <td>81.5</td>\n      <td>Male</td>\n    </tr>\n    <tr>\n      <th>1</th>\n      <td>39.4</td>\n      <td>17.65</td>\n      <td>87.0</td>\n      <td>102.1</td>\n      <td>60.1</td>\n      <td>42.0</td>\n      <td>172.72</td>\n      <td>72.6</td>\n      <td>Male</td>\n    </tr>\n    <tr>\n      <th>2</th>\n      <td>42.7</td>\n      <td>18.35</td>\n      <td>96.4</td>\n      <td>112.0</td>\n      <td>60.0</td>\n      <td>43.4</td>\n      <td>172.72</td>\n      <td>92.9</td>\n      <td>Male</td>\n    </tr>\n    <tr>\n      <th>3</th>\n      <td>40.1</td>\n      <td>16.50</td>\n      <td>85.7</td>\n      <td>111.4</td>\n      <td>60.2</td>\n      <td>44.6</td>\n      <td>167.64</td>\n      <td>79.4</td>\n      <td>Male</td>\n    </tr>\n    <tr>\n      <th>4</th>\n      <td>43.5</td>\n      <td>20.00</td>\n      <td>86.8</td>\n      <td>104.8</td>\n      <td>60.4</td>\n      <td>43.0</td>\n      <td>195.58</td>\n      <td>94.6</td>\n      <td>Male</td>\n    </tr>\n  </tbody>\n</table>\n</div>"
     },
     "execution_count": 172,
     "metadata": {},
     "output_type": "execute_result"
    }
   ],
   "source": [
    "body_df.head()"
   ],
   "metadata": {
    "collapsed": false,
    "pycharm": {
     "name": "#%%\n"
    }
   }
  },
  {
   "cell_type": "code",
   "execution_count": 174,
   "outputs": [
    {
     "data": {
      "text/plain": "gender\nFemale    56.192497\nMale      62.943288\nName: length, dtype: float64"
     },
     "execution_count": 174,
     "metadata": {},
     "output_type": "execute_result"
    }
   ],
   "source": [
    "body_df.groupby(['gender'])['length'].mean()"
   ],
   "metadata": {
    "collapsed": false,
    "pycharm": {
     "name": "#%%\n"
    }
   }
  },
  {
   "cell_type": "code",
   "execution_count": 174,
   "outputs": [],
   "source": [
    "class Person:\n",
    "    def __init__(self, height, weight, size):\n",
    "        self.height = height\n",
    "        self.weight = weight\n",
    "        self.size = size"
   ],
   "metadata": {
    "collapsed": false,
    "pycharm": {
     "name": "#%%\n"
    }
   }
  }
 ],
 "metadata": {
  "kernelspec": {
   "display_name": "Python 3",
   "language": "python",
   "name": "python3"
  },
  "language_info": {
   "codemirror_mode": {
    "name": "ipython",
    "version": 2
   },
   "file_extension": ".py",
   "mimetype": "text/x-python",
   "name": "python",
   "nbconvert_exporter": "python",
   "pygments_lexer": "ipython2",
   "version": "2.7.6"
  }
 },
 "nbformat": 4,
 "nbformat_minor": 0
}